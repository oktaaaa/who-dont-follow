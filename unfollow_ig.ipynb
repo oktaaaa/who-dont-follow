{
 "cells": [
  {
   "cell_type": "markdown",
   "id": "4bef59b5",
   "metadata": {},
   "source": [
    "How to find out who don't follow your instagram account."
   ]
  },
  {
   "cell_type": "markdown",
   "id": "93c92681",
   "metadata": {},
   "source": [
    "1. Import the libraries needed."
   ]
  },
  {
   "cell_type": "code",
   "execution_count": 1,
   "id": "294a0bc7",
   "metadata": {},
   "outputs": [],
   "source": [
    "import numpy as np\n",
    "import re\n",
    "import codecs"
   ]
  },
  {
   "cell_type": "markdown",
   "id": "e424de3b",
   "metadata": {},
   "source": [
    "2. Open and read the file that consist of followers and followings of the account."
   ]
  },
  {
   "cell_type": "code",
   "execution_count": 2,
   "id": "68f77e26",
   "metadata": {},
   "outputs": [],
   "source": [
    "def the_files(file1):\n",
    "    f = codecs.open(file1, 'r', 'utf-8').read()\n",
    "    return f\n",
    "\n",
    "followers_file = the_files('followers.html')\n",
    "following_file = the_files('following.html')"
   ]
  },
  {
   "cell_type": "markdown",
   "id": "3ae5ef2a",
   "metadata": {},
   "source": [
    "2. Get the username by using RegEx. \n",
    "e.g \"https://www.instagram.com/username\"\n",
    "- Import the RegEx library.\n",
    "- Loop through foll0wers_filea and following_files to get the usernames and save them in an array."
   ]
  },
  {
   "cell_type": "code",
   "execution_count": 3,
   "id": "452b8e66",
   "metadata": {},
   "outputs": [],
   "source": [
    "def to_clean(f):\n",
    "    pattern = 'www.instagram.com/([A-Za-z0-9-_\\.]+)'\n",
    "    p = []\n",
    "    for x in re.findall(pattern, f):\n",
    "        p.append(x)\n",
    "    return p\n",
    "       \n",
    "followers = to_clean(followers_file)    \n",
    "followings= to_clean(following_file)  "
   ]
  },
  {
   "cell_type": "markdown",
   "id": "06489313",
   "metadata": {},
   "source": [
    "3. Use numpy.setdiff1d() function to find the set difference of two arrays; followings and followers.\n",
    "\n",
    "The return values are elements in followings which are not in followers."
   ]
  },
  {
   "cell_type": "code",
   "execution_count": null,
   "id": "f9519a79",
   "metadata": {},
   "outputs": [],
   "source": [
    "nofollback = np.setdiff1d(followings,followers)"
   ]
  }
 ],
 "metadata": {
  "kernelspec": {
   "display_name": "Python 3 (ipykernel)",
   "language": "python",
   "name": "python3"
  },
  "language_info": {
   "codemirror_mode": {
    "name": "ipython",
    "version": 3
   },
   "file_extension": ".py",
   "mimetype": "text/x-python",
   "name": "python",
   "nbconvert_exporter": "python",
   "pygments_lexer": "ipython3",
   "version": "3.9.7"
  }
 },
 "nbformat": 4,
 "nbformat_minor": 5
}
